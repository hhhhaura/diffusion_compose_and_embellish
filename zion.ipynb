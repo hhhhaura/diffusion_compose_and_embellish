{
 "cells": [
  {
   "cell_type": "code",
   "execution_count": 15,
   "id": "c6b19572",
   "metadata": {},
   "outputs": [],
   "source": [
    "from glob import glob\n",
    "import numpy as np\n",
    "import os\n",
    "from pathlib import Path\n",
    "from tqdm import tqdm\n",
    "import pickle\n",
    "import matplotlib.pyplot as plt\n",
    "import seaborn as sns\n",
    "import pickle\n",
    "import random"
   ]
  },
  {
   "cell_type": "code",
   "execution_count": 3,
   "id": "128103fc",
   "metadata": {},
   "outputs": [],
   "source": [
    "with open('dictionary_new.pkl', 'rb') as f:\n",
    "    token2id, id2token = pickle.load(f)"
   ]
  },
  {
   "cell_type": "code",
   "execution_count": 10,
   "id": "7273551f",
   "metadata": {},
   "outputs": [],
   "source": [
    "def group_bar(tokens):\n",
    "    groups = []\n",
    "    cur_group = []\n",
    "\n",
    "    assert tokens[0] == 'Bar_None'\n",
    "    cur_group.append(tokens[0])\n",
    "\n",
    "    for t in tokens[1:]:\n",
    "        if t == 'Bar_None':\n",
    "            groups.append(cur_group)\n",
    "            cur_group = []\n",
    "        cur_group.append(t)\n",
    "\n",
    "    if cur_group:\n",
    "        groups.append(cur_group)\n",
    "        \n",
    "    return groups\n",
    "\n",
    "def full2sky(tokens):\n",
    "    return list(filter(lambda t: not t.startswith('Velocity') and not t.startswith('Tempo'), tokens))"
   ]
  },
  {
   "cell_type": "code",
   "execution_count": 14,
   "id": "31039a48",
   "metadata": {},
   "outputs": [
    {
     "name": "stderr",
     "output_type": "stream",
     "text": [
      "100%|██████████| 1392/1392 [00:06<00:00, 218.30it/s]\n"
     ]
    }
   ],
   "source": [
    "BAR_LEN = 160\n",
    "\n",
    "cond_data = []\n",
    "target_data = []\n",
    "\n",
    "for full_path in tqdm(glob('dataset/pop2piano_data/remi_events_full/*/*.pkl')):\n",
    "    sky_path = full_path.replace('remi_events_full', 'remi_events_sky')\n",
    "\n",
    "    full_tokens = np.load(full_path, allow_pickle=True)\n",
    "    sky_tokens = np.load(sky_path, allow_pickle=True)\n",
    "\n",
    "    full_tokens = [f'{t[\"name\"]}_{t[\"value\"]}' for t in full_tokens]\n",
    "    sky_tokens = [f'{t[\"name\"]}_{t[\"value\"]}' for t in sky_tokens]\n",
    "    \n",
    "    full_groups = group_bar(full_tokens)\n",
    "    sky_groups = group_bar(sky_tokens)\n",
    "\n",
    "    assert len(sky_groups) <= len(full_groups)\n",
    "\n",
    "    while len(sky_groups) < len(full_groups):\n",
    "        sky_groups.append(full2sky(full_groups[len(sky_groups)]))\n",
    "        \n",
    "    tempo_token = next((t for t in full_tokens if t.startswith('Tempo')), None)\n",
    "    assert tempo_token is not None\n",
    "\n",
    "    cond_tokens = ['[BOS]', tempo_token]\n",
    "    for group in sky_groups:\n",
    "        cond_tokens.append('Track_Skyline')\n",
    "        cond_tokens += group\n",
    "    cond_tokens.append('[EOS]')\n",
    "\n",
    "    target_tokens = []\n",
    "    for full_group in full_groups:\n",
    "        target_tokens.append('Track_Midi')\n",
    "        target_tokens += full_group\n",
    "        target_tokens += ['[NONE]'] * (BAR_LEN - len(full_group))\n",
    "\n",
    "    cond_data.append(' '.join(cond_tokens))\n",
    "    target_data.append(' '.join(target_tokens))\n",
    "\n",
    "indices = list(range(len(cond_data)))\n",
    "random.shuffle(indices)\n",
    "train_size = int(len(indices) * 0.8)\n",
    "train_indices = indices[:train_size]\n",
    "valid_indices = indices[train_size:]\n",
    "\n",
    "with open('cond_train.txt', 'w') as f:\n",
    "    for i in train_indices:\n",
    "        f.write(cond_data[i] + '\\n')\n",
    "\n",
    "with open('target_train.txt', 'w') as f:\n",
    "    for i in train_indices:\n",
    "        f.write(target_data[i] + '\\n')\n",
    "\n",
    "with open('cond_valid.txt', 'w') as f:\n",
    "    for i in valid_indices:\n",
    "        f.write(cond_data[i] + '\\n')\n",
    "\n",
    "with open('target_valid.txt', 'w') as f:\n",
    "    for i in valid_indices:\n",
    "        f.write(target_data[i] + '\\n')\n"
   ]
  },
  {
   "cell_type": "code",
   "execution_count": 2,
   "id": "7c7a8afc",
   "metadata": {},
   "outputs": [],
   "source": [
    "import pickle\n",
    "with open('/tmp2/b11902010/dmir_lab/diffusion_compose_and_embellish/dictionary_all.pkl', 'rb') as f:\n",
    "    d = pickle.load(f)\n",
    "token2id, id2token = d\n",
    "voc = [id2token[i] for i in range(len(id2token))]\n",
    "voc = ['[MASK]', '[PAD]', '[NONE]', '[BOS]', '[EOS]'] + voc\n",
    "token2id = {t: i for i, t in enumerate(voc)}\n",
    "id2token = {i: t for i, t in enumerate(voc)}\n",
    "\n",
    "with open('dictionary_new.pkl', 'wb') as f:\n",
    "    pickle.dump((token2id, id2token), f)"
   ]
  },
  {
   "cell_type": "code",
   "execution_count": 17,
   "id": "8fb9aa44",
   "metadata": {},
   "outputs": [
    {
     "data": {
      "text/plain": [
       "(array([ 22.,  85., 193., 265., 194., 157.,  96.,  67.,  28.,   6.]),\n",
       " array([ 6279.,  8211., 10143., 12075., 14007., 15939., 17871., 19803.,\n",
       "        21735., 23667., 25599.]),\n",
       " <BarContainer object of 10 artists>)"
      ]
     },
     "execution_count": 17,
     "metadata": {},
     "output_type": "execute_result"
    },
    {
     "data": {
      "image/png": "[encoded data removed]",
      "text/plain": [
       "<Figure size 640x480 with 1 Axes>"
      ]
     },
     "metadata": {},
     "output_type": "display_data"
    }
   ],
   "source": [
    "with open('dataset/pop2piano_data/target_train.txt', 'r') as f:\n",
    "    dist = [len(l.split()) for l in f]\n",
    "\n",
    "plt.hist(dist)"
   ]
  }
 ],
 "metadata": {
  "kernelspec": {
   "display_name": "mdlm",
   "language": "python",
   "name": "python3"
  },
  "language_info": {
   "codemirror_mode": {
    "name": "ipython",
    "version": 3
   },
   "file_extension": ".py",
   "mimetype": "text/x-python",
   "name": "python",
   "nbconvert_exporter": "python",
   "pygments_lexer": "ipython3",
   "version": "3.9.21"
  }
 },
 "nbformat": 4,
 "nbformat_minor": 5
}
